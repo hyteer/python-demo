{
 "cells": [
  {
   "cell_type": "code",
   "execution_count": 11,
   "metadata": {},
   "outputs": [
    {
     "name": "stdout",
     "output_type": "stream",
     "text": [
      "{'id': 1, 'value': '0.01', 'test_point': 'min_price', 'name': 'product_price'}\n"
     ]
    }
   ],
   "source": [
    "# Basic: select\n",
    "import pymysql.cursors\n",
    "\n",
    "# Connect to the database\n",
    "connection = pymysql.connect(host='10.20.60.3',\n",
    "                             user='test',\n",
    "                             password='123456',\n",
    "                             db='test_db',\n",
    "                             charset='utf8mb4',\n",
    "                             cursorclass=pymysql.cursors.DictCursor)\n",
    "\n",
    "try:\n",
    "    with connection.cursor() as cursor:\n",
    "        # Create a new record\n",
    "        sql = \"SELECT `id`, `name`, `value`, `test_point` FROM `test_db`.`params`\"\n",
    "        cursor.execute(sql)\n",
    "        result = cursor.fetchone()\n",
    "        print(result)\n",
    "finally:\n",
    "    connection.close()"
   ]
  },
  {
   "cell_type": "code",
   "execution_count": 19,
   "metadata": {},
   "outputs": [
    {
     "name": "stdout",
     "output_type": "stream",
     "text": [
      "Name:product_price, Value:0.01, TestPoint:最小价格\n",
      "Name:product_price, Value:99999999, TestPoint:最大价格\n",
      "Name:product_price, Value:15.6, TestPoint:价格\n",
      "Name:product_price, Value:0.0511, TestPoint:非法价格\n"
     ]
    }
   ],
   "source": [
    "# Demo: select params\n",
    "import pymysql.cursors\n",
    "\n",
    "# Connect to the database\n",
    "connection = pymysql.connect(host='10.20.60.3',\n",
    "                             user='test',\n",
    "                             password='123456',\n",
    "                             db='test_db',\n",
    "                             charset='utf8mb4',\n",
    "                             cursorclass=pymysql.cursors.DictCursor)\n",
    "\n",
    "try:\n",
    "    with connection.cursor() as cursor:\n",
    "        # Create a new record\n",
    "        sql = \"SELECT `id`, `name`, `value`, `test_point` FROM `test_db`.`params`  WHERE `name`=%s;\"\n",
    "        cursor.execute(sql,'product_price')\n",
    "        result = cursor.fetchall()\n",
    "        for i in result:\n",
    "            print(\"Name:%s, Value:%s, TestPoint:%s\" % (i['name'],i['value'],i['test_point']))\n",
    "finally:\n",
    "    connection.close()"
   ]
  },
  {
   "cell_type": "code",
   "execution_count": 15,
   "metadata": {},
   "outputs": [
    {
     "name": "stdout",
     "output_type": "stream",
     "text": [
      "{'id': 1, 'value': '0.01', 'test_point': 'min_price', 'name': 'product_price'}\n"
     ]
    }
   ],
   "source": [
    "# Basic: insert\n",
    "import pymysql.cursors\n",
    "\n",
    "# Connect to the database\n",
    "connection = pymysql.connect(host='10.20.60.3',\n",
    "                             user='test',\n",
    "                             password='123456',\n",
    "                             db='test_db',\n",
    "                             charset='utf8mb4',\n",
    "                             cursorclass=pymysql.cursors.DictCursor)\n",
    "\n",
    "try:\n",
    "    with connection.cursor() as cursor:\n",
    "        # Create a new record\n",
    "        sql = \"INSERT INTO `test_db`.`params` (`name`, `value`, `test_point`) VALUES ('product_price', '0.0511', 'illegal_price');\"\n",
    "        cursor.execute(sql)\n",
    "\n",
    "    # connection is not autocommit by default. So you must commit to save\n",
    "    # your changes.\n",
    "    connection.commit()\n",
    "    with connection.cursor() as cursor:\n",
    "        # Create a new record\n",
    "        sql = \"SELECT `id`, `name`, `value`, `test_point` FROM `test_db`.`params`\"\n",
    "        cursor.execute(sql)\n",
    "        result = cursor.fetchone()\n",
    "        print(result)\n",
    "finally:\n",
    "    connection.close()"
   ]
  },
  {
   "cell_type": "code",
   "execution_count": null,
   "metadata": {
    "collapsed": true
   },
   "outputs": [],
   "source": [
    "# Class\n",
    "import pymysql.cursors\n",
    "\n",
    "class DbParam(object):\n",
    "\n",
    "    def __init__(self):\n",
    "        # Connect to the database\n",
    "        connection = pymysql.connect(host='10.20.60.3',\n",
    "                                     user='test',\n",
    "                                     password='123456',\n",
    "                                     db='test_db',\n",
    "                                     charset='utf8mb4',\n",
    "                                     cursorclass=pymysql.cursors.DictCursor)\n",
    "        self.connection = connection\n",
    "\n",
    "\n",
    "    def get_param(self,param_name):\n",
    "\n",
    "        with self.connection.cursor() as cursor:\n",
    "            # Create a new record\n",
    "            sql = \"SELECT `id`, `name`, `value`, `test_point` FROM `test_db`.`params`  WHERE `name`=%s;\"\n",
    "            cursor.execute(sql,param_name)\n",
    "            result = cursor.fetchall()\n",
    "            for i in result:\n",
    "                print(\"Name:%s, Value:%s, GroupName:%s\" % (i['name'],i['value'],i['test_point']))\n",
    "\n",
    "    def close_db(self):\n",
    "        self.connection.close()\n",
    "\n",
    "    def __del__(self):\n",
    "        self.connection.close()\n",
    "\n",
    "\n",
    "\n",
    "\n",
    "\n"
   ]
  }
 ],
 "metadata": {
  "kernelspec": {
   "display_name": "Python 3",
   "language": "python",
   "name": "python3"
  },
  "language_info": {
   "codemirror_mode": {
    "name": "ipython",
    "version": 3
   },
   "file_extension": ".py",
   "mimetype": "text/x-python",
   "name": "python",
   "nbconvert_exporter": "python",
   "pygments_lexer": "ipython3",
   "version": "3.5.3"
  }
 },
 "nbformat": 4,
 "nbformat_minor": 2
}

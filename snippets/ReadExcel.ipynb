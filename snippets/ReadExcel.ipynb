{
 "cells": [
  {
   "cell_type": "code",
   "execution_count": 5,
   "metadata": {},
   "outputs": [
    {
     "name": "stdout",
     "output_type": "stream",
     "text": [
      "Name: 商品列表, URL: /api/product-list\n",
      "Name: 商品状态, URL: /api/product-status\n"
     ]
    },
    {
     "data": {
      "text/plain": [
       "[OrderedDict([('接口', '商品列表'), ('URL', '/api/product-list')]),\n",
       " OrderedDict([('接口', '商品状态'), ('URL', '/api/product-status')])]"
      ]
     },
     "execution_count": 5,
     "metadata": {},
     "output_type": "execute_result"
    }
   ],
   "source": [
    "# Reade Excel\n",
    "import pyexcel as pe\n",
    "from datetime import datetime\n",
    "\n",
    "EXCEL_FILE = 'params.xlsx'\n",
    "\n",
    "# Read data from excel file\n",
    "def read_exceldata():\n",
    "    import pyexcel as pe\n",
    "    records =  pe.get_array(file_name=EXCEL_FILE)\n",
    "    for i in range(1,len(records)):\n",
    "        print(\"%s, %s\") % (records[i][0],records[i][1])\n",
    "\n",
    "#read_exceldata()\n",
    "#list =  pe.get_array(file_name=EXCEL_FILE)\n",
    "\n",
    "\n",
    "def get_data():\n",
    "    data = pe.get_records(file_name=EXCEL_FILE)\n",
    "    for item in data:\n",
    "        print(\"Name: %s, URL: %s\" % (item['接口'],item['URL']))\n",
    "    return data\n",
    "\n",
    "get_data()"
   ]
  }
 ],
 "metadata": {
  "kernelspec": {
   "display_name": "Python 3",
   "language": "python",
   "name": "python3"
  },
  "language_info": {
   "codemirror_mode": {
    "name": "ipython",
    "version": 3
   },
   "file_extension": ".py",
   "mimetype": "text/x-python",
   "name": "python",
   "nbconvert_exporter": "python",
   "pygments_lexer": "ipython3",
   "version": "3.5.3"
  }
 },
 "nbformat": 4,
 "nbformat_minor": 2
}
